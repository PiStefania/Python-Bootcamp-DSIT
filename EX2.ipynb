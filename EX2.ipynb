{
 "cells": [
  {
   "cell_type": "code",
   "execution_count": 1,
   "metadata": {},
   "outputs": [],
   "source": [
    "import numpy as np\n",
    "\n",
    "def EditDistanceM(s, t):  \n",
    "    size_x = len(s) + 1\n",
    "    size_y = len(t) + 1\n",
    "    matrix = np.zeros((size_x, size_y))\n",
    "    \n",
    "    for x in range(size_x):\n",
    "        matrix[x, 0] = x\n",
    "    for y in range(size_y):\n",
    "        matrix[0, y] = y\n",
    "\n",
    "    for x in range(1, size_x):\n",
    "        for y in range(1, size_y):\n",
    "            if s[x-1] == t[y-1]:\n",
    "                matrix[x,y] = min(\n",
    "                    matrix[x-1, y] + 1,\n",
    "                    matrix[x-1, y-1],\n",
    "                    matrix[x, y-1] + 1\n",
    "                )\n",
    "            else:\n",
    "                matrix[x,y] = min(\n",
    "                    matrix[x-1,y] + 1,\n",
    "                    matrix[x-1,y-1] + 1,\n",
    "                    matrix[x,y-1] + 1\n",
    "                )\n",
    "    return (matrix[size_x - 1, size_y - 1])"
   ]
  },
  {
   "cell_type": "code",
   "execution_count": 2,
   "metadata": {},
   "outputs": [],
   "source": [
    "def calculateSimilarityScorePercentage(stringLength1, stringLength2, distance):\n",
    "    maxLength = max(stringLength1, stringLength2)\n",
    "    return ((maxLength - distance) / maxLength) * 100"
   ]
  },
  {
   "cell_type": "code",
   "execution_count": 3,
   "metadata": {},
   "outputs": [],
   "source": [
    "def SimilarityScoresBetweenFiles(filePath1, filePath2):\n",
    "    # open files\n",
    "    file1 = open(filePath1, \"r\")\n",
    "    file2 = open(filePath2, \"r\")\n",
    "    file1_contents = file1.read().splitlines()\n",
    "    file2_contents = file2.read().splitlines()\n",
    "    file1.close()\n",
    "    file2.close()\n",
    "    \n",
    "    # initialize list holding the tuples of lines and distances\n",
    "    similarityScores = []\n",
    "    file1_line_counter = 1\n",
    "    for file1_line in file1_contents: \n",
    "        file2_line_counter = 1\n",
    "        for file2_line in file2_contents:\n",
    "            distance = EditDistanceM(file1_line, file2_line)\n",
    "            similarityScore = calculateSimilarityScorePercentage(len(file1_line), len(file2_line), distance)\n",
    "            similarityScores.append((file1_line_counter, file2_line_counter, similarityScore))\n",
    "            file2_line_counter += 1\n",
    "        file1_line_counter += 1\n",
    "    return similarityScores"
   ]
  },
  {
   "cell_type": "code",
   "execution_count": 4,
   "metadata": {},
   "outputs": [],
   "source": [
    "def printFirstNSimilarityScores(list, n):\n",
    "    for i in range(n):\n",
    "        print(str(list[i][0]) +\", \" + str(list[i][1]) + \", \" + str(round(list[i][2],1)) + \"%\")"
   ]
  },
  {
   "cell_type": "code",
   "execution_count": 5,
   "metadata": {},
   "outputs": [
    {
     "name": "stdout",
     "output_type": "stream",
     "text": [
      "55, 76, 62.0%\n",
      "29, 5, 60.0%\n",
      "92, 53, 60.0%\n",
      "11, 83, 58.0%\n",
      "13, 6, 58.0%\n",
      "85, 83, 58.0%\n",
      "5, 100, 56.0%\n",
      "11, 66, 56.0%\n",
      "16, 27, 56.0%\n",
      "20, 48, 56.0%\n"
     ]
    }
   ],
   "source": [
    "# set file path names\n",
    "filePath1 = \"dnalist1.txt\"\n",
    "filePath2 = \"dnalist2.txt\"\n",
    "\n",
    "similarityScores = SimilarityScoresBetweenFiles(filePath1, filePath2)\n",
    "similarityScores.sort(key=lambda x: x[2], reverse = True)\n",
    "printFirstNSimilarityScores(similarityScores, 10)"
   ]
  },
  {
   "cell_type": "code",
   "execution_count": 6,
   "metadata": {},
   "outputs": [],
   "source": [
    "import random\n",
    "\n",
    "def generateFile(fileName, lineNum, lineLength):\n",
    "    chars = ['A', 'T', 'G', 'C']\n",
    "    generator = open(fileName, \"w\")\n",
    "    for line in range(lineNum):\n",
    "        randomLine = \"\"\n",
    "        for c in range(lineLength):\n",
    "            randomLetter = random.choice(chars)\n",
    "            randomLine += randomLetter\n",
    "        randomLine += \"\\n\"\n",
    "        generator.write(randomLine)\n",
    "    generator.close()"
   ]
  },
  {
   "cell_type": "code",
   "execution_count": 7,
   "metadata": {},
   "outputs": [],
   "source": [
    "def EditDistanceR(s, t):\n",
    "    if s == \"\":\n",
    "        return len(t)\n",
    "    if t == \"\":\n",
    "        return len(s)\n",
    "    if s[-1] == t[-1]:  # check all letters except last one\n",
    "        cost = 0\n",
    "    else:\n",
    "        cost = 1\n",
    "    res = min([EditDistanceR(s, t[:-1])+1, # Insert operation at the end\n",
    "               EditDistanceR(s[:-1], t)+1, # Delete operation at the end\n",
    "               EditDistanceR(s[:-1], t[:-1]) + cost]) # Replace operation at the end\n",
    "    return res"
   ]
  },
  {
   "cell_type": "code",
   "execution_count": 8,
   "metadata": {},
   "outputs": [],
   "source": [
    "import time\n",
    "\n",
    "def editDistanceBetweenFiles(filePath1, filePath2, algorithm, executeTimesR, executeTimesM):\n",
    "    # open files\n",
    "    file1 = open(filePath1, \"r\")\n",
    "    file2 = open(filePath2, \"r\")\n",
    "    file1_contents = file1.read().splitlines()\n",
    "    file2_contents = file2.read().splitlines()\n",
    "    file1.close()\n",
    "    file2.close()\n",
    "    \n",
    "    file1_line_counter = 1\n",
    "    for file1_line in file1_contents: \n",
    "        file2_line_counter = 1\n",
    "        for file2_line in file2_contents:\n",
    "            if algorithm == 0:\n",
    "                start = time.time()\n",
    "                distance = EditDistanceR(file1_line, file2_line)\n",
    "                end = time.time()\n",
    "                executeTimesR.append(end-start)\n",
    "            else:\n",
    "                start = time.time()\n",
    "                distance = EditDistanceM(file1_line, file2_line)\n",
    "                end = time.time()\n",
    "                executeTimesM.append(end-start)\n",
    "            file2_line_counter += 1\n",
    "        file1_line_counter += 1"
   ]
  },
  {
   "cell_type": "code",
   "execution_count": 9,
   "metadata": {},
   "outputs": [],
   "source": [
    "#initialize lists for storing execution times for each algorithm\n",
    "executeTimesR = []\n",
    "executeTimesM = []\n",
    "\n",
    "# i: line length\n",
    "for i in range(1,21):\n",
    "    # create files\n",
    "    generateFile(\"file1.txt\",2,i)\n",
    "    generateFile(\"file2.txt\",2,i)\n",
    "    if i <= 10:\n",
    "        # call EditDistanceR if line length is <= 10\n",
    "        editDistanceBetweenFiles(\"file1.txt\", \"file2.txt\", 0, executeTimesR, executeTimesM)\n",
    "    editDistanceBetweenFiles(\"file1.txt\", \"file2.txt\", 1, executeTimesR, executeTimesM)"
   ]
  },
  {
   "cell_type": "code",
   "execution_count": 10,
   "metadata": {},
   "outputs": [
    {
     "data": {
      "image/png": "[encoded data removed]",
      "text/plain": [
       "<Figure size 432x288 with 1 Axes>"
      ]
     },
     "metadata": {
      "needs_background": "light"
     },
     "output_type": "display_data"
    }
   ],
   "source": [
    "from matplotlib import pyplot\n",
    "import numpy as np\n",
    "\n",
    "%matplotlib inline\n",
    "\n",
    "n = 4 # for each line compare\n",
    "lineLengthsR = list(range(1,11))\n",
    "lineLengthsM = list(range(1,21))\n",
    "lineLengthsR = list(np.repeat(lineLengthsR, n))\n",
    "lineLengthsM = list(np.repeat(lineLengthsM, n))\n",
    "#print(lineLengthsR)\n",
    "#print(lineLengthsM)\n",
    "\n",
    "# EditDistanceR used\n",
    "pyplot.plot(lineLengthsR, executeTimesR, color='red', marker='o', linestyle='solid') \n",
    "\n",
    "# EditDistanceM used\n",
    "pyplot.plot(lineLengthsM, executeTimesM, color='blue', marker='+', linestyle='solid') \n",
    "pyplot.title(\"Edit distance: Recursive Vs. Matrix programming\")\n",
    "\n",
    "# add labels to x and y-axis\n",
    "pyplot.ylabel(\"Execution time (in sec)\")\n",
    "pyplot.xlabel(\"Line length (in chars)\")\n",
    "pyplot.show()"
   ]
  },
  {
   "cell_type": "code",
   "execution_count": null,
   "metadata": {},
   "outputs": [],
   "source": []
  }
 ],
 "metadata": {
  "kernelspec": {
   "display_name": "Python 3",
   "language": "python",
   "name": "python3"
  },
  "language_info": {
   "codemirror_mode": {
    "name": "ipython",
    "version": 3
   },
   "file_extension": ".py",
   "mimetype": "text/x-python",
   "name": "python",
   "nbconvert_exporter": "python",
   "pygments_lexer": "ipython3",
   "version": "3.6.6"
  }
 },
 "nbformat": 4,
 "nbformat_minor": 2
}
