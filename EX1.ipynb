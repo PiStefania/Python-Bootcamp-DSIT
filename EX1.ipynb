{
 "cells": [
  {
   "cell_type": "code",
   "execution_count": 13,
   "metadata": {},
   "outputs": [
    {
     "name": "stdout",
     "output_type": "stream",
     "text": [
      "TOTAL BASES: 1157, ERRORS: 5, A: 314, G: 198, T: 381, C: 259\n"
     ]
    }
   ],
   "source": [
    "# EX1\n",
    "import re\n",
    "\n",
    "path = \"dnastring1.txt\"\n",
    "my_file = open(path, 'r')\n",
    "file_contents = my_file.read()\n",
    "file_contents = re.sub(r\"\\s+\", \"\", file_contents, flags=re.UNICODE)\n",
    "file_contents_len = len(file_contents)\n",
    "count_errors = file_contents.count(\"-\")\n",
    "count_A = file_contents.count(\"A\")\n",
    "count_G = file_contents.count(\"G\")\n",
    "count_T = file_contents.count(\"T\")\n",
    "count_C = file_contents.count(\"C\")\n",
    "result = count_errors + count_A + count_G + count_T + count_C\n",
    "#print(str(result))\n",
    "print(\"TOTAL BASES: \" + str(file_contents_len) + \", ERRORS: \" + str(count_errors) + \", A: \" + str(count_A) + \", G: \" + str(count_G) + \", T: \" + str(count_T) + \", C: \" + str(count_C))\n",
    "my_file.close()"
   ]
  },
  {
   "cell_type": "code",
   "execution_count": null,
   "metadata": {},
   "outputs": [],
   "source": []
  }
 ],
 "metadata": {
  "kernelspec": {
   "display_name": "Python 3",
   "language": "python",
   "name": "python3"
  },
  "language_info": {
   "codemirror_mode": {
    "name": "ipython",
    "version": 3
   },
   "file_extension": ".py",
   "mimetype": "text/x-python",
   "name": "python",
   "nbconvert_exporter": "python",
   "pygments_lexer": "ipython3",
   "version": "3.6.6"
  }
 },
 "nbformat": 4,
 "nbformat_minor": 2
}
